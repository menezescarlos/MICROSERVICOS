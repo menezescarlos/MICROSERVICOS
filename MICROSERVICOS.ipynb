{
 "cells": [
  {
   "cell_type": "markdown",
   "metadata": {},
   "source": [
    "### ATIVIDADE DE REVISÃO MICROSERVIÇOS"
   ]
  },
  {
   "cell_type": "markdown",
   "metadata": {},
   "source": [
    "\t\n",
    "### A) O que é uma arquitetura monolitica\n",
    "\n",
    "1. Aplicações distribuídas em várias máquinas virtuais dentro do mesmo servidor\n",
    "2. Aplicação em homenagem aos monolitos da Ilha de Páscoa\n",
    "3. Aplicação única contendo todas as funções em um mesmo local/código\n",
    "4. Nenhuma das alternativas\n",
    "\n",
    "### A alternativa correta é:\n",
    "\n",
    "3. Aplicação única contendo todas as funções em um mesmo local/código\n",
    "\n",
    "Uma arquitetura monolítica é um tipo de design de software em que todas as funcionalidades da aplicação estão integradas em um único bloco de código ou aplicação. Isso significa que todos os componentes (por exemplo, interface de usuário, lógica de negócios, acesso a dados, etc.) são construídos e implantados como uma única unidade.\n",
    "\n",
    "\n",
    "\n",
    "\n",
    "\n",
    "\n",
    "\n"
   ]
  },
  {
   "cell_type": "markdown",
   "metadata": {},
   "source": [
    "### B) O que significa SPOF\n",
    "\n",
    "1. Single point of fear\n",
    "2. Single point of fever\n",
    "3. Single point of failure\n",
    "4. Single point of feel\n",
    "\n",
    "\n",
    "### A alternativa correta é:\n",
    "\n",
    "3. Single point of failure\n",
    "\n",
    "SPOF (Single Point of Failure) refere-se a um ponto único em um sistema que, se falhar, causará a falha completa do sistema. É um termo comum em engenharia de sistemas, onde a confiabilidade e a redundância são críticas para garantir a continuidade do serviço."
   ]
  },
  {
   "cell_type": "markdown",
   "metadata": {},
   "source": [
    "### C) Porque entender/aplicar o conceito de Stateful x Stateless é importante antes de escalar uma aplicação\n",
    "\n",
    "1. Quando você adiciona um serviço/servidor a sessão armazenada localmente não vai se replicar para as outras máquinas e as requisições que dependem da sessão irão falhar\n",
    "2. Se a sessão contém informações para completar as próximas fases do ciclo de vida da requisição do usuário, esse fluxo pode se perder quando a requisição ir para um servidor diferente do que contém o armazenamento da sessão\n",
    "3. Caso precise armazenar a sessão do usuário é importante ter um armazenamento distribuído da sessão para todos os serviços/servidores\n",
    "4. Todas as alternativas\n",
    "\n",
    "\n",
    "### A alternativa correta é:\n",
    "\n",
    "4. Todas as alternativas\n",
    "\n",
    "Entender e aplicar o conceito de Stateful x Stateless é importante antes de escalar uma aplicação porque:\n",
    "\n",
    ". Quando você adiciona um serviço/servidor, a sessão armazenada localmente não vai se replicar para as outras máquinas e as requisições que dependem da sessão irão falhar.<BR>\n",
    ". Se a sessão contém informações para completar as próximas fases do ciclo de vida da requisição do usuário, esse fluxo pode se perder quando a requisição for para um servidor diferente do que contém o armazenamento da sessão.<BR>\n",
    ". Caso precise armazenar a sessão do usuário, é importante ter um armazenamento distribuído da sessão para todos os serviços/servidores.\n",
    "\n",
    "Esses pontos destacam a importância de lidar adequadamente com o estado (state) das sessões ao escalar uma aplicação para garantir que ela funcione corretamente em um ambiente distribuído."
   ]
  },
  {
   "cell_type": "markdown",
   "metadata": {},
   "source": [
    "### D) O que é escalabilidade horizontal?\n",
    "\n",
    "1. Adicionar memória ram no máquina para melhorar o processamento\n",
    "2. Adicionar cpu na máquina para melhorar o processamento\n",
    "3. Adicionar novas máquinas paralelamente\n",
    "4. Nenhuma das alternativas\n",
    "\n",
    "\n",
    "### A alternativa correta é:\n",
    "\n",
    "3. Adicionar novas máquinas paralelamente\n",
    "\n",
    "A escalabilidade horizontal refere-se à capacidade de melhorar o desempenho e a capacidade de um sistema adicionando mais máquinas (servidores) ao invés de aumentar os recursos (como CPU ou memória) de uma única máquina. Isso é frequentemente usado em arquiteturas distribuídas para distribuir a carga de trabalho e melhorar a disponibilidade e a redundância do sistema."
   ]
  },
  {
   "cell_type": "markdown",
   "metadata": {},
   "source": [
    "### E) O que é escalabilidade vertical\n",
    "\n",
    "1. Aumentar cpu/memória para melhorar o processamento\n",
    "2. Aumentar a quantidade de máquinas paralelamente\n",
    "3. Nenhuma das alternativas\n",
    "\n",
    "### A alternativa correta é:\n",
    "\n",
    "1. Aumentar cpu/memória para melhorar o processamento\n",
    "\n",
    "A escalabilidade vertical refere-se à capacidade de melhorar o desempenho de um sistema aumentando os recursos de hardware de uma única máquina, como adicionar mais CPU, memória RAM ou armazenamento. Isso é diferente da escalabilidade horizontal, que envolve adicionar mais máquinas ao sistema."
   ]
  },
  {
   "cell_type": "markdown",
   "metadata": {},
   "source": [
    "### F) Quais são os 4 grandes grupos de integração de alto nível proposto no livro Enterprise Integration Patterns\n",
    "\n",
    "1. FIle Transfer, Shared Database, Remote Procedure Invocation e Messaging\n",
    "2. File database, Shared transfer, Messaging Invocation e Remote Procedure\n",
    "3. File, Database, Procedure e Messaging\n",
    "\n",
    "\n",
    "### A alternativa correta é:\n",
    "\n",
    "1. File Transfer, Shared Database, Remote Procedure Invocation e Messaging\n",
    "\n",
    "Esses são os quatro grandes grupos de integração de alto nível propostos no livro \"Enterprise Integration Patterns\" por Gregor Hohpe e Bobby Woolf. Cada grupo representa uma abordagem distinta para a integração de sistemas empresariais:\n",
    "\n",
    ". File Transfer: Transferência de arquivos entre sistemas.<BR>\n",
    ". Shared Database: Uso de um banco de dados compartilhado para integração.<BR>\n",
    ". Remote Procedure Invocation: Invocação de procedimentos remotos para comunicação entre sistemas.<BR>\n",
    ". Messaging: Uso de mensagens para comunicação assíncrona entre sistemas.<BR>"
   ]
  },
  {
   "cell_type": "markdown",
   "metadata": {},
   "source": [
    "\t\n",
    "### H) O que é alta coesão\n",
    "\n",
    "1. Serviços/Módulos com uma responsabilidade bem definidas como uma unidade atômica e logicamente única\n",
    "2. Relação semântica entre palavras\n",
    "3. Opção 3\n",
    "\n",
    "\n",
    "### A alternativa correta é:\n",
    "\n",
    "1. Serviços/Módulos com uma responsabilidade bem definidas como uma unidade atômica e logicamente única\n",
    "\n",
    "Alta coesão refere-se a um princípio de design de software onde os componentes (como serviços ou módulos) têm responsabilidades bem definidas e estreitamente relacionadas. Isso facilita a manutenção, a compreensão e a reutilização do código."
   ]
  },
  {
   "cell_type": "markdown",
   "metadata": {},
   "source": [
    "#### I) O que é baixo acoplamento\n",
    "\n",
    "1. Módulos dependentes entre si\n",
    "2. Módulos independentes\n",
    "\n",
    "### A alternativa correta é:\n",
    "\n",
    "2. Módulos independentes\n",
    "\n",
    "Baixo acoplamento refere-se a um princípio de design de software onde os módulos ou componentes de um sistema são independentes ou têm poucas dependências entre si. Isso facilita a manutenção, a escalabilidade e a flexibilidade do sistema, pois mudanças em um módulo têm menor probabilidade de afetar outros módulos."
   ]
  },
  {
   "cell_type": "markdown",
   "metadata": {},
   "source": [
    "### J) \tUm benefício dos microserviços é que podemos utilizar ferramentas distintas para resolver problemas específicos sem ter que mudar todo nosso produto.\n",
    "Esta afirmação é:\n",
    "\n",
    "Ex: para resolver um problema matemático de cálculo complexo eu poderia criar um serviço em uma linguagem de programação que tenha boa performance para cálculos e adicionar ao meu produto/sistema\n",
    "\n",
    "Opções de múltipla escolha:\n",
    "\n",
    "1. Verdadeira\n",
    "2. Falsa\n",
    "\n",
    "\n",
    "### A alternativa correta é:\n",
    "\n",
    "1. Verdadeira\n",
    "\n",
    "Um dos benefícios dos microserviços é a possibilidade de utilizar diferentes ferramentas, linguagens de programação e tecnologias para resolver problemas específicos dentro do mesmo sistema. Isso permite que os desenvolvedores escolham a melhor tecnologia para cada serviço individual, otimizando o desempenho e a eficiência. Por exemplo, um serviço que realiza cálculos complexos pode ser implementado em uma linguagem de programação com boa performance para essa tarefa, sem a necessidade de alterar o restante do sistema."
   ]
  },
  {
   "cell_type": "markdown",
   "metadata": {},
   "source": [
    "### K) Utilizando arquitetura de microserviços eu posso resolver problemas encontrados no meu produto corrigindo somente a parte específica do produto que está contida no microserviço criado para tal.\n",
    "Esta afirmação é:\n",
    "\n",
    "Opções de múltipla escolha:\n",
    "\n",
    "1. Verdadeira\n",
    "2. Falsa\n",
    "\n",
    "\n",
    "### A alternativa correta é:\n",
    "\n",
    "1. Verdadeira\n",
    "\n",
    "Em uma arquitetura de microserviços, cada serviço é independente e autocontido, o que permite corrigir problemas ou fazer melhorias em um microserviço específico sem afetar os outros serviços ou o sistema como um todo. Isso facilita a manutenção, a escalabilidade e a implantação contínua.\n"
   ]
  }
 ],
 "metadata": {
  "language_info": {
   "name": "python"
  }
 },
 "nbformat": 4,
 "nbformat_minor": 2
}
