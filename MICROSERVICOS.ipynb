{
 "cells": [
  {
   "cell_type": "markdown",
   "metadata": {},
   "source": [
    "### ATIVIDADE DE REVISÃO MICROSERVIÇOS"
   ]
  },
  {
   "cell_type": "markdown",
   "metadata": {},
   "source": [
    "\t\n",
    "### A) O que é uma arquitetura monolitica\n",
    "\n",
    "1. Aplicações distribuídas em várias máquinas virtuais dentro do mesmo servidor\n",
    "2. Aplicação em homenagem aos monolitos da Ilha de Páscoa\n",
    "3. Aplicação única contendo todas as funções em um mesmo local/código\n",
    "4. Nenhuma das alternativas\n",
    "\n",
    "### A alternativa correta é:\n",
    "\n",
    "3. Aplicação única contendo todas as funções em um mesmo local/código\n",
    "\n",
    "Uma arquitetura monolítica é um tipo de design de software em que todas as funcionalidades da aplicação estão integradas em um único bloco de código ou aplicação. Isso significa que todos os componentes (por exemplo, interface de usuário, lógica de negócios, acesso a dados, etc.) são construídos e implantados como uma única unidade.\n",
    "\n",
    "\n",
    "\n",
    "\n",
    "\n",
    "\n",
    "\n"
   ]
  },
  {
   "cell_type": "markdown",
   "metadata": {},
   "source": [
    "### B) O que significa SPOF\n",
    "\n",
    "1. Single point of fear\n",
    "2. Single point of fever\n",
    "3. Single point of failure\n",
    "4. Single point of feel\n",
    "\n",
    "\n",
    "### A alternativa correta é:\n",
    "\n",
    "3. Single point of failure\n",
    "\n",
    "SPOF (Single Point of Failure) refere-se a um ponto único em um sistema que, se falhar, causará a falha completa do sistema. É um termo comum em engenharia de sistemas, onde a confiabilidade e a redundância são críticas para garantir a continuidade do serviço."
   ]
  },
  {
   "cell_type": "markdown",
   "metadata": {},
   "source": [
    "### C) Porque entender/aplicar o conceito de Stateful x Stateless é importante antes de escalar uma aplicação\n",
    "\n",
    "1. Quando você adiciona um serviço/servidor a sessão armazenada localmente não vai se replicar para as outras máquinas e as requisições que dependem da sessão irão falhar\n",
    "2. Se a sessão contém informações para completar as próximas fases do ciclo de vida da requisição do usuário, esse fluxo pode se perder quando a requisição ir para um servidor diferente do que contém o armazenamento da sessão\n",
    "3. Caso precise armazenar a sessão do usuário é importante ter um armazenamento distribuído da sessão para todos os serviços/servidores\n",
    "4. Todas as alternativas\n",
    "\n",
    "\n",
    "### A alternativa correta é:\n",
    "\n",
    "4. Todas as alternativas\n",
    "\n",
    "Entender e aplicar o conceito de Stateful x Stateless é importante antes de escalar uma aplicação porque:\n",
    "\n",
    ". Quando você adiciona um serviço/servidor, a sessão armazenada localmente não vai se replicar para as outras máquinas e as requisições que dependem da sessão irão falhar.<BR>\n",
    ". Se a sessão contém informações para completar as próximas fases do ciclo de vida da requisição do usuário, esse fluxo pode se perder quando a requisição for para um servidor diferente do que contém o armazenamento da sessão.<BR>\n",
    ". Caso precise armazenar a sessão do usuário, é importante ter um armazenamento distribuído da sessão para todos os serviços/servidores.\n",
    "\n",
    "Esses pontos destacam a importância de lidar adequadamente com o estado (state) das sessões ao escalar uma aplicação para garantir que ela funcione corretamente em um ambiente distribuído."
   ]
  }
 ],
 "metadata": {
  "language_info": {
   "name": "python"
  }
 },
 "nbformat": 4,
 "nbformat_minor": 2
}
